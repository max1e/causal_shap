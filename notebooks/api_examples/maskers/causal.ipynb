{
 "cells": [
  {
   "cell_type": "markdown",
   "id": "7aa7fe2580e43ccc",
   "metadata": {},
   "source": [
    "# Computing causal Shapley values\n",
    "\n",
    "Here we show how to create a Causal Shapley masker to retrieve causal Shapley values using SHAP."
   ]
  },
  {
   "cell_type": "code",
   "execution_count": 1,
   "id": "a9d829e0ffe225a0",
   "metadata": {
    "ExecuteTime": {
     "end_time": "2024-11-29T15:45:44.298535Z",
     "start_time": "2024-11-29T15:45:43.099361Z"
    }
   },
   "outputs": [
    {
     "name": "stderr",
     "output_type": "stream",
     "text": [
      "No causal ordering provided. Consider using the Independent Masker if your goal is to compute marginal Shapley values.\n",
      "No confounding provided. Assuming that all causal groups contain have confounders present.\n"
     ]
    }
   ],
   "source": [
    "import xgboost\n",
    "\n",
    "import shap\n",
    "from shap.maskers._tabular import Causal as CausalMasker\n",
    "from shap.maskers._tabular import Independent as IndependentMasker\n",
    "\n",
    "# get a dataset on income prediction\n",
    "# X, y = shap.datasets.adult()\n",
    "X, y = shap.datasets.iris()\n",
    "# X, y = shap.datasets.diabetes()\n",
    "\n",
    "# train an XGBoost model (but any other model type would also work)\n",
    "model = xgboost.XGBClassifier()\n",
    "model.fit(X, y)\n",
    "\n",
    "# Define masker\n",
    "marginal_masker = IndependentMasker(X)\n",
    "causal_masker = CausalMasker(X)"
   ]
  },
  {
   "cell_type": "code",
   "execution_count": 2,
   "id": "afde1cd59ed6830c",
   "metadata": {
    "ExecuteTime": {
     "end_time": "2024-11-29T15:45:44.502590Z",
     "start_time": "2024-11-29T15:45:44.301418Z"
    }
   },
   "outputs": [],
   "source": [
    "import xgboost\n",
    "\n",
    "import shap\n",
    "\n",
    "# get a dataset on income prediction\n",
    "X, y = shap.datasets.adult()\n",
    "# X, y = shap.datasets.iris()\n",
    "# X, y = shap.datasets.diabetes()\n",
    "\n",
    "# train an XGBoost model (but any other model type would also work)\n",
    "model = xgboost.XGBClassifier()\n",
    "model.fit(X, y);"
   ]
  },
  {
   "cell_type": "code",
   "execution_count": 3,
   "id": "d1dbba02b18d4387",
   "metadata": {
    "ExecuteTime": {
     "end_time": "2024-11-29T15:45:44.622779Z",
     "start_time": "2024-11-29T15:45:44.614932Z"
    }
   },
   "outputs": [
    {
     "name": "stderr",
     "output_type": "stream",
     "text": [
      "No causal ordering provided. Consider using the Independent Masker if your goal is to compute marginal Shapley values.\n",
      "No confounding provided. Assuming that all causal groups contain have confounders present.\n"
     ]
    }
   ],
   "source": [
    "from shap.maskers._tabular import Causal as CausalMasker\n",
    "from shap.maskers._tabular import Independent as IndependentMasker\n",
    "\n",
    "marginal_masker = IndependentMasker(X)\n",
    "causal_masker = CausalMasker(X)"
   ]
  },
  {
   "cell_type": "code",
   "execution_count": 4,
   "id": "ddebce6bcc4b10c2",
   "metadata": {
    "ExecuteTime": {
     "end_time": "2024-11-29T15:45:44.845024Z",
     "start_time": "2024-11-29T15:45:44.632551Z"
    }
   },
   "outputs": [
    {
     "name": "stderr",
     "output_type": "stream",
     "text": [
      "[3.900e+01 7.000e+00 1.300e+01 4.000e+00 1.000e+00 0.000e+00 4.000e+00\n",
      " 1.000e+00 2.174e+03 0.000e+00 4.000e+01 3.900e+01]\n",
      "[2147483647         11         10 ...         11         10         11]\n"
     ]
    },
    {
     "ename": "AssertionError",
     "evalue": "mask must have the same shape as features. expected 32561, received (4096,).",
     "output_type": "error",
     "traceback": [
      "\u001b[0;31m---------------------------------------------------------------------------\u001b[0m",
      "\u001b[0;31mAssertionError\u001b[0m                            Traceback (most recent call last)",
      "Cell \u001b[0;32mIn[4], line 6\u001b[0m\n\u001b[1;32m      3\u001b[0m explainer \u001b[38;5;241m=\u001b[39m shap\u001b[38;5;241m.\u001b[39mexplainers\u001b[38;5;241m.\u001b[39mExact(model\u001b[38;5;241m.\u001b[39mpredict_proba, causal_masker)\n\u001b[1;32m      5\u001b[0m \u001b[38;5;66;03m# explain the model predictions on the given dataset\u001b[39;00m\n\u001b[0;32m----> 6\u001b[0m shap_values \u001b[38;5;241m=\u001b[39m \u001b[43mexplainer\u001b[49m\u001b[43m(\u001b[49m\u001b[43mX\u001b[49m\u001b[43m[\u001b[49m\u001b[43m:\u001b[49m\u001b[38;5;241;43m100\u001b[39;49m\u001b[43m]\u001b[49m\u001b[43m)\u001b[49m\n\u001b[1;32m      8\u001b[0m \u001b[38;5;66;03m# get just the explanations for the positive class\u001b[39;00m\n\u001b[1;32m      9\u001b[0m shap_values \u001b[38;5;241m=\u001b[39m shap_values[\u001b[38;5;241m.\u001b[39m\u001b[38;5;241m.\u001b[39m\u001b[38;5;241m.\u001b[39m, \u001b[38;5;241m1\u001b[39m]\n",
      "File \u001b[0;32m~/Documents/Research internship/causal_shap/shap/explainers/_exact.py:84\u001b[0m, in \u001b[0;36mExactExplainer.__call__\u001b[0;34m(self, max_evals, main_effects, error_bounds, batch_size, interactions, silent, *args)\u001b[0m\n\u001b[1;32m     81\u001b[0m \u001b[38;5;250m\u001b[39m\u001b[38;5;124;03m\"\"\"Explains the output of model(*args), where args represents one or more parallel iterators.\"\"\"\u001b[39;00m\n\u001b[1;32m     82\u001b[0m \u001b[38;5;66;03m# we entirely rely on the general call implementation, we override just to remove **kwargs\u001b[39;00m\n\u001b[1;32m     83\u001b[0m \u001b[38;5;66;03m# from the function signature\u001b[39;00m\n\u001b[0;32m---> 84\u001b[0m \u001b[38;5;28;01mreturn\u001b[39;00m \u001b[38;5;28;43msuper\u001b[39;49m\u001b[43m(\u001b[49m\u001b[43m)\u001b[49m\u001b[38;5;241;43m.\u001b[39;49m\u001b[38;5;21;43m__call__\u001b[39;49m\u001b[43m(\u001b[49m\n\u001b[1;32m     85\u001b[0m \u001b[43m    \u001b[49m\u001b[38;5;241;43m*\u001b[39;49m\u001b[43margs\u001b[49m\u001b[43m,\u001b[49m\n\u001b[1;32m     86\u001b[0m \u001b[43m    \u001b[49m\u001b[43mmax_evals\u001b[49m\u001b[38;5;241;43m=\u001b[39;49m\u001b[43mmax_evals\u001b[49m\u001b[43m,\u001b[49m\n\u001b[1;32m     87\u001b[0m \u001b[43m    \u001b[49m\u001b[43mmain_effects\u001b[49m\u001b[38;5;241;43m=\u001b[39;49m\u001b[43mmain_effects\u001b[49m\u001b[43m,\u001b[49m\n\u001b[1;32m     88\u001b[0m \u001b[43m    \u001b[49m\u001b[43merror_bounds\u001b[49m\u001b[38;5;241;43m=\u001b[39;49m\u001b[43merror_bounds\u001b[49m\u001b[43m,\u001b[49m\n\u001b[1;32m     89\u001b[0m \u001b[43m    \u001b[49m\u001b[43mbatch_size\u001b[49m\u001b[38;5;241;43m=\u001b[39;49m\u001b[43mbatch_size\u001b[49m\u001b[43m,\u001b[49m\n\u001b[1;32m     90\u001b[0m \u001b[43m    \u001b[49m\u001b[43minteractions\u001b[49m\u001b[38;5;241;43m=\u001b[39;49m\u001b[43minteractions\u001b[49m\u001b[43m,\u001b[49m\n\u001b[1;32m     91\u001b[0m \u001b[43m    \u001b[49m\u001b[43msilent\u001b[49m\u001b[38;5;241;43m=\u001b[39;49m\u001b[43msilent\u001b[49m\u001b[43m,\u001b[49m\n\u001b[1;32m     92\u001b[0m \u001b[43m\u001b[49m\u001b[43m)\u001b[49m\n",
      "File \u001b[0;32m~/Documents/Research internship/causal_shap/shap/explainers/_explainer.py:366\u001b[0m, in \u001b[0;36mExplainer.__call__\u001b[0;34m(self, max_evals, main_effects, error_bounds, batch_size, outputs, silent, *args, **kwargs)\u001b[0m\n\u001b[1;32m    364\u001b[0m     feature_names \u001b[38;5;241m=\u001b[39m [[] \u001b[38;5;28;01mfor\u001b[39;00m _ \u001b[38;5;129;01min\u001b[39;00m \u001b[38;5;28mrange\u001b[39m(\u001b[38;5;28mlen\u001b[39m(args))]\n\u001b[1;32m    365\u001b[0m \u001b[38;5;28;01mfor\u001b[39;00m row_args \u001b[38;5;129;01min\u001b[39;00m show_progress(\u001b[38;5;28mzip\u001b[39m(\u001b[38;5;241m*\u001b[39margs), num_rows, \u001b[38;5;28mself\u001b[39m\u001b[38;5;241m.\u001b[39m\u001b[38;5;18m__class__\u001b[39m\u001b[38;5;241m.\u001b[39m\u001b[38;5;18m__name__\u001b[39m \u001b[38;5;241m+\u001b[39m \u001b[38;5;124m\"\u001b[39m\u001b[38;5;124m explainer\u001b[39m\u001b[38;5;124m\"\u001b[39m, silent):\n\u001b[0;32m--> 366\u001b[0m     row_result \u001b[38;5;241m=\u001b[39m \u001b[38;5;28;43mself\u001b[39;49m\u001b[38;5;241;43m.\u001b[39;49m\u001b[43mexplain_row\u001b[49m\u001b[43m(\u001b[49m\n\u001b[1;32m    367\u001b[0m \u001b[43m        \u001b[49m\u001b[38;5;241;43m*\u001b[39;49m\u001b[43mrow_args\u001b[49m\u001b[43m,\u001b[49m\n\u001b[1;32m    368\u001b[0m \u001b[43m        \u001b[49m\u001b[43mmax_evals\u001b[49m\u001b[38;5;241;43m=\u001b[39;49m\u001b[43mmax_evals\u001b[49m\u001b[43m,\u001b[49m\n\u001b[1;32m    369\u001b[0m \u001b[43m        \u001b[49m\u001b[43mmain_effects\u001b[49m\u001b[38;5;241;43m=\u001b[39;49m\u001b[43mmain_effects\u001b[49m\u001b[43m,\u001b[49m\n\u001b[1;32m    370\u001b[0m \u001b[43m        \u001b[49m\u001b[43merror_bounds\u001b[49m\u001b[38;5;241;43m=\u001b[39;49m\u001b[43merror_bounds\u001b[49m\u001b[43m,\u001b[49m\n\u001b[1;32m    371\u001b[0m \u001b[43m        \u001b[49m\u001b[43mbatch_size\u001b[49m\u001b[38;5;241;43m=\u001b[39;49m\u001b[43mbatch_size\u001b[49m\u001b[43m,\u001b[49m\n\u001b[1;32m    372\u001b[0m \u001b[43m        \u001b[49m\u001b[43moutputs\u001b[49m\u001b[38;5;241;43m=\u001b[39;49m\u001b[43moutputs\u001b[49m\u001b[43m,\u001b[49m\n\u001b[1;32m    373\u001b[0m \u001b[43m        \u001b[49m\u001b[43msilent\u001b[49m\u001b[38;5;241;43m=\u001b[39;49m\u001b[43msilent\u001b[49m\u001b[43m,\u001b[49m\n\u001b[1;32m    374\u001b[0m \u001b[43m        \u001b[49m\u001b[38;5;241;43m*\u001b[39;49m\u001b[38;5;241;43m*\u001b[39;49m\u001b[43mkwargs\u001b[49m\u001b[43m,\u001b[49m\n\u001b[1;32m    375\u001b[0m \u001b[43m    \u001b[49m\u001b[43m)\u001b[49m\n\u001b[1;32m    376\u001b[0m     values\u001b[38;5;241m.\u001b[39mappend(row_result\u001b[38;5;241m.\u001b[39mget(\u001b[38;5;124m\"\u001b[39m\u001b[38;5;124mvalues\u001b[39m\u001b[38;5;124m\"\u001b[39m, \u001b[38;5;28;01mNone\u001b[39;00m))\n\u001b[1;32m    377\u001b[0m     output_indices\u001b[38;5;241m.\u001b[39mappend(row_result\u001b[38;5;241m.\u001b[39mget(\u001b[38;5;124m\"\u001b[39m\u001b[38;5;124moutput_indices\u001b[39m\u001b[38;5;124m\"\u001b[39m, \u001b[38;5;28;01mNone\u001b[39;00m))\n",
      "File \u001b[0;32m~/Documents/Research internship/causal_shap/shap/explainers/_exact.py:130\u001b[0m, in \u001b[0;36mExactExplainer.explain_row\u001b[0;34m(self, max_evals, main_effects, error_bounds, batch_size, outputs, interactions, silent, *row_args)\u001b[0m\n\u001b[1;32m    127\u001b[0m         extended_delta_indexes[i] \u001b[38;5;241m=\u001b[39m inds[delta_indexes[i]]\n\u001b[1;32m    129\u001b[0m \u001b[38;5;66;03m# run the model\u001b[39;00m\n\u001b[0;32m--> 130\u001b[0m outputs \u001b[38;5;241m=\u001b[39m \u001b[43mfm\u001b[49m\u001b[43m(\u001b[49m\u001b[43mextended_delta_indexes\u001b[49m\u001b[43m,\u001b[49m\u001b[43m \u001b[49m\u001b[43mzero_index\u001b[49m\u001b[38;5;241;43m=\u001b[39;49m\u001b[38;5;241;43m0\u001b[39;49m\u001b[43m,\u001b[49m\u001b[43m \u001b[49m\u001b[43mbatch_size\u001b[49m\u001b[38;5;241;43m=\u001b[39;49m\u001b[43mbatch_size\u001b[49m\u001b[43m)\u001b[49m\n\u001b[1;32m    132\u001b[0m \u001b[38;5;66;03m# Shapley values\u001b[39;00m\n\u001b[1;32m    133\u001b[0m \u001b[38;5;66;03m# Care: Need to distinguish between `True` and `1`\u001b[39;00m\n\u001b[1;32m    134\u001b[0m \u001b[38;5;28;01mif\u001b[39;00m interactions \u001b[38;5;129;01mis\u001b[39;00m \u001b[38;5;28;01mFalse\u001b[39;00m \u001b[38;5;129;01mor\u001b[39;00m (interactions \u001b[38;5;241m==\u001b[39m \u001b[38;5;241m1\u001b[39m \u001b[38;5;129;01mand\u001b[39;00m interactions \u001b[38;5;129;01mis\u001b[39;00m \u001b[38;5;129;01mnot\u001b[39;00m \u001b[38;5;28;01mTrue\u001b[39;00m):\n\u001b[1;32m    135\u001b[0m     \u001b[38;5;66;03m# loop over all the outputs to update the rows\u001b[39;00m\n",
      "File \u001b[0;32m~/Documents/Research internship/causal_shap/shap/utils/_masked_model.py:57\u001b[0m, in \u001b[0;36mMaskedModel.__call__\u001b[0;34m(self, masks, zero_index, batch_size)\u001b[0m\n\u001b[1;32m     55\u001b[0m \u001b[38;5;28;01mif\u001b[39;00m \u001b[38;5;28mlen\u001b[39m(masks\u001b[38;5;241m.\u001b[39mshape) \u001b[38;5;241m==\u001b[39m \u001b[38;5;241m1\u001b[39m:\n\u001b[1;32m     56\u001b[0m     \u001b[38;5;28;01mif\u001b[39;00m \u001b[38;5;28mgetattr\u001b[39m(\u001b[38;5;28mself\u001b[39m\u001b[38;5;241m.\u001b[39mmasker, \u001b[38;5;124m\"\u001b[39m\u001b[38;5;124msupports_delta_masking\u001b[39m\u001b[38;5;124m\"\u001b[39m, \u001b[38;5;28;01mFalse\u001b[39;00m):\n\u001b[0;32m---> 57\u001b[0m         \u001b[38;5;28;01mreturn\u001b[39;00m \u001b[38;5;28;43mself\u001b[39;49m\u001b[38;5;241;43m.\u001b[39;49m\u001b[43m_delta_masking_call\u001b[49m\u001b[43m(\u001b[49m\u001b[43mmasks\u001b[49m\u001b[43m,\u001b[49m\u001b[43m \u001b[49m\u001b[43mzero_index\u001b[49m\u001b[38;5;241;43m=\u001b[39;49m\u001b[43mzero_index\u001b[49m\u001b[43m,\u001b[49m\u001b[43m \u001b[49m\u001b[43mbatch_size\u001b[49m\u001b[38;5;241;43m=\u001b[39;49m\u001b[43mbatch_size\u001b[49m\u001b[43m)\u001b[49m\n\u001b[1;32m     59\u001b[0m     \u001b[38;5;66;03m# we need to convert from delta masking to a full masking call because we were given a delta masking\u001b[39;00m\n\u001b[1;32m     60\u001b[0m     \u001b[38;5;66;03m# input but the masker does not support delta masking\u001b[39;00m\n\u001b[1;32m     61\u001b[0m     \u001b[38;5;28;01melse\u001b[39;00m:\n\u001b[1;32m     62\u001b[0m         full_masks \u001b[38;5;241m=\u001b[39m np\u001b[38;5;241m.\u001b[39mzeros((\u001b[38;5;28mint\u001b[39m(np\u001b[38;5;241m.\u001b[39msum(masks \u001b[38;5;241m>\u001b[39m\u001b[38;5;241m=\u001b[39m \u001b[38;5;241m0\u001b[39m)), \u001b[38;5;28mself\u001b[39m\u001b[38;5;241m.\u001b[39m_masker_cols), dtype\u001b[38;5;241m=\u001b[39m\u001b[38;5;28mbool\u001b[39m)\n",
      "File \u001b[0;32m~/Documents/Research internship/causal_shap/shap/utils/_masked_model.py:199\u001b[0m, in \u001b[0;36mMaskedModel._delta_masking_call\u001b[0;34m(self, masks, zero_index, batch_size)\u001b[0m\n\u001b[1;32m    194\u001b[0m \u001b[38;5;28;01mdef\u001b[39;00m \u001b[38;5;21m_delta_masking_call\u001b[39m(\u001b[38;5;28mself\u001b[39m, masks, zero_index\u001b[38;5;241m=\u001b[39m\u001b[38;5;28;01mNone\u001b[39;00m, batch_size\u001b[38;5;241m=\u001b[39m\u001b[38;5;28;01mNone\u001b[39;00m):\n\u001b[1;32m    195\u001b[0m     \u001b[38;5;66;03m# TODO: we need to do batching here\u001b[39;00m\n\u001b[1;32m    197\u001b[0m     \u001b[38;5;28;01massert\u001b[39;00m \u001b[38;5;28mgetattr\u001b[39m(\u001b[38;5;28mself\u001b[39m\u001b[38;5;241m.\u001b[39mmasker, \u001b[38;5;124m\"\u001b[39m\u001b[38;5;124msupports_delta_masking\u001b[39m\u001b[38;5;124m\"\u001b[39m, \u001b[38;5;28;01mNone\u001b[39;00m) \u001b[38;5;129;01mis\u001b[39;00m \u001b[38;5;129;01mnot\u001b[39;00m \u001b[38;5;28;01mNone\u001b[39;00m, \u001b[38;5;124m\"\u001b[39m\u001b[38;5;124mMasker must support delta masking!\u001b[39m\u001b[38;5;124m\"\u001b[39m\n\u001b[0;32m--> 199\u001b[0m     masked_inputs, varying_rows \u001b[38;5;241m=\u001b[39m \u001b[38;5;28;43mself\u001b[39;49m\u001b[38;5;241;43m.\u001b[39;49m\u001b[43mmasker\u001b[49m\u001b[43m(\u001b[49m\u001b[43mmasks\u001b[49m\u001b[43m,\u001b[49m\u001b[43m \u001b[49m\u001b[38;5;241;43m*\u001b[39;49m\u001b[38;5;28;43mself\u001b[39;49m\u001b[38;5;241;43m.\u001b[39;49m\u001b[43margs\u001b[49m\u001b[43m)\u001b[49m\n\u001b[1;32m    200\u001b[0m     num_varying_rows \u001b[38;5;241m=\u001b[39m varying_rows\u001b[38;5;241m.\u001b[39msum(\u001b[38;5;241m1\u001b[39m)\n\u001b[1;32m    202\u001b[0m     subset_masked_inputs \u001b[38;5;241m=\u001b[39m [arg[varying_rows\u001b[38;5;241m.\u001b[39mreshape(\u001b[38;5;241m-\u001b[39m\u001b[38;5;241m1\u001b[39m)] \u001b[38;5;28;01mfor\u001b[39;00m arg \u001b[38;5;129;01min\u001b[39;00m masked_inputs]\n",
      "File \u001b[0;32m~/Documents/Research internship/causal_shap/shap/maskers/_tabular.py:441\u001b[0m, in \u001b[0;36mCausal.__call__\u001b[0;34m(self, mask, x)\u001b[0m\n\u001b[1;32m    439\u001b[0m log\u001b[38;5;241m.\u001b[39mwarning(x)\n\u001b[1;32m    440\u001b[0m log\u001b[38;5;241m.\u001b[39mwarning(mask)\n\u001b[0;32m--> 441\u001b[0m \u001b[38;5;28;01massert\u001b[39;00m mask\u001b[38;5;241m.\u001b[39mshape \u001b[38;5;241m==\u001b[39m x\u001b[38;5;241m.\u001b[39mshape[\u001b[38;5;241m0\u001b[39m], \u001b[38;5;124mf\u001b[39m\u001b[38;5;124m\"\u001b[39m\u001b[38;5;124mmask must have the same shape as features. expected \u001b[39m\u001b[38;5;132;01m{\u001b[39;00m\u001b[38;5;28mself\u001b[39m\u001b[38;5;241m.\u001b[39mn_features\u001b[38;5;132;01m}\u001b[39;00m\u001b[38;5;124m, received \u001b[39m\u001b[38;5;132;01m{\u001b[39;00mmask\u001b[38;5;241m.\u001b[39mshape\u001b[38;5;132;01m}\u001b[39;00m\u001b[38;5;124m.\u001b[39m\u001b[38;5;124m\"\u001b[39m\n\u001b[1;32m    442\u001b[0m \u001b[38;5;28;01massert\u001b[39;00m mask\u001b[38;5;241m.\u001b[39mdtype \u001b[38;5;241m==\u001b[39m \u001b[38;5;28mbool\u001b[39m, \u001b[38;5;124m\"\u001b[39m\u001b[38;5;124mmask must be of Boolean dtype\u001b[39m\u001b[38;5;124m\"\u001b[39m\n\u001b[1;32m    444\u001b[0m \u001b[38;5;66;03m# TODO What do delta masks look like, can we support, or at least map them here?\u001b[39;00m\n\u001b[1;32m    445\u001b[0m \n\u001b[1;32m    446\u001b[0m \u001b[38;5;66;03m# Identify indices of variables not intervened upon (dependent variables)\u001b[39;00m\n",
      "\u001b[0;31mAssertionError\u001b[0m: mask must have the same shape as features. expected 32561, received (4096,)."
     ]
    }
   ],
   "source": [
    "# build an Exact explainer, although we can use any explainer that takes in a masker\n",
    "# explainer = shap.explainers.Exact(model.predict_proba, marginal_masker)\n",
    "explainer = shap.explainers.Exact(model.predict_proba, causal_masker)\n",
    "\n",
    "# explain the model predictions on the given dataset\n",
    "shap_values = explainer(X[:100])\n",
    "\n",
    "# get just the explanations for the positive class\n",
    "shap_values = shap_values[..., 1]\n",
    "shap.plots.bar(shap_values)"
   ]
  }
 ],
 "metadata": {
  "kernelspec": {
   "display_name": "Python 3",
   "language": "python",
   "name": "python3"
  },
  "language_info": {
   "codemirror_mode": {
    "name": "ipython",
    "version": 2
   },
   "file_extension": ".py",
   "mimetype": "text/x-python",
   "name": "python",
   "nbconvert_exporter": "python",
   "pygments_lexer": "ipython2",
   "version": "2.7.6"
  }
 },
 "nbformat": 4,
 "nbformat_minor": 5
}
